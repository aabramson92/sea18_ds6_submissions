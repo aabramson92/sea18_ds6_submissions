{
 "cells": [
  {
   "cell_type": "markdown",
   "metadata": {},
   "source": [
    "Topic: Challenge Set 1\n",
    "\n",
    "Subject : Explore MTA Turnstile Data\n",
    "\n",
    "Date: 1 October 2018\n",
    "\n",
    "Name: Alexy Abramson"
   ]
  },
  {
   "cell_type": "markdown",
   "metadata": {},
   "source": [
    "**Challenge 1: Open up a new Jupyter Notebook, download a few MTA turnstile data files, then open up some files, use csv reader to read it and ensure there is a column for each feature (C/A, UNIT, SCP, STATION). These are the first four columns.**"
   ]
  },
  {
   "cell_type": "code",
   "execution_count": 1,
   "metadata": {},
   "outputs": [],
   "source": [
    "# Challenge 1 Answer\n",
    "\n",
    "import numpy as np\n",
    "import matplotlib.pyplot as plt\n",
    "import pandas as pd\n",
    "from pandas import DataFrame, Series\n",
    "\n",
    "df = pd.read_csv('turnstile_180922.csv')\n",
    "df = df.append(pd.read_csv('turnstile_180915.csv'))\n",
    "df = df.append(pd.read_csv('turnstile_180908.csv'))\n",
    "df = df.append(pd.read_csv('turnstile_180901.csv'))\n",
    "df.columns = df.columns.str.strip()\n",
    "\n",
    "if \"C/A\" in df.columns and \"UNIT\" in df.columns and \"SCP\" in df.columns and \"STATION\" in df.columns:\n",
    "    df.head()"
   ]
  },
  {
   "cell_type": "markdown",
   "metadata": {},
   "source": [
    "**Challenge 2: Create a new column that specifies the date and time of each entry.**"
   ]
  },
  {
   "cell_type": "code",
   "execution_count": 2,
   "metadata": {},
   "outputs": [
    {
     "data": {
      "text/html": [
       "<div>\n",
       "<style scoped>\n",
       "    .dataframe tbody tr th:only-of-type {\n",
       "        vertical-align: middle;\n",
       "    }\n",
       "\n",
       "    .dataframe tbody tr th {\n",
       "        vertical-align: top;\n",
       "    }\n",
       "\n",
       "    .dataframe thead th {\n",
       "        text-align: right;\n",
       "    }\n",
       "</style>\n",
       "<table border=\"1\" class=\"dataframe\">\n",
       "  <thead>\n",
       "    <tr style=\"text-align: right;\">\n",
       "      <th></th>\n",
       "      <th>C/A</th>\n",
       "      <th>UNIT</th>\n",
       "      <th>SCP</th>\n",
       "      <th>STATION</th>\n",
       "      <th>LINENAME</th>\n",
       "      <th>DIVISION</th>\n",
       "      <th>DATE</th>\n",
       "      <th>TIME</th>\n",
       "      <th>DESC</th>\n",
       "      <th>ENTRIES</th>\n",
       "      <th>EXITS</th>\n",
       "      <th>TIMESTAMP</th>\n",
       "    </tr>\n",
       "  </thead>\n",
       "  <tbody>\n",
       "    <tr>\n",
       "      <th>0</th>\n",
       "      <td>A002</td>\n",
       "      <td>R051</td>\n",
       "      <td>02-00-00</td>\n",
       "      <td>59 ST</td>\n",
       "      <td>NQR456W</td>\n",
       "      <td>BMT</td>\n",
       "      <td>09/15/2018</td>\n",
       "      <td>00:00:00</td>\n",
       "      <td>REGULAR</td>\n",
       "      <td>6759219</td>\n",
       "      <td>2291425</td>\n",
       "      <td>2018-09-15 00:00:00</td>\n",
       "    </tr>\n",
       "    <tr>\n",
       "      <th>1</th>\n",
       "      <td>A002</td>\n",
       "      <td>R051</td>\n",
       "      <td>02-00-00</td>\n",
       "      <td>59 ST</td>\n",
       "      <td>NQR456W</td>\n",
       "      <td>BMT</td>\n",
       "      <td>09/15/2018</td>\n",
       "      <td>04:00:00</td>\n",
       "      <td>REGULAR</td>\n",
       "      <td>6759234</td>\n",
       "      <td>2291429</td>\n",
       "      <td>2018-09-15 04:00:00</td>\n",
       "    </tr>\n",
       "    <tr>\n",
       "      <th>2</th>\n",
       "      <td>A002</td>\n",
       "      <td>R051</td>\n",
       "      <td>02-00-00</td>\n",
       "      <td>59 ST</td>\n",
       "      <td>NQR456W</td>\n",
       "      <td>BMT</td>\n",
       "      <td>09/15/2018</td>\n",
       "      <td>08:00:00</td>\n",
       "      <td>REGULAR</td>\n",
       "      <td>6759251</td>\n",
       "      <td>2291453</td>\n",
       "      <td>2018-09-15 08:00:00</td>\n",
       "    </tr>\n",
       "    <tr>\n",
       "      <th>3</th>\n",
       "      <td>A002</td>\n",
       "      <td>R051</td>\n",
       "      <td>02-00-00</td>\n",
       "      <td>59 ST</td>\n",
       "      <td>NQR456W</td>\n",
       "      <td>BMT</td>\n",
       "      <td>09/15/2018</td>\n",
       "      <td>12:00:00</td>\n",
       "      <td>REGULAR</td>\n",
       "      <td>6759330</td>\n",
       "      <td>2291532</td>\n",
       "      <td>2018-09-15 12:00:00</td>\n",
       "    </tr>\n",
       "    <tr>\n",
       "      <th>4</th>\n",
       "      <td>A002</td>\n",
       "      <td>R051</td>\n",
       "      <td>02-00-00</td>\n",
       "      <td>59 ST</td>\n",
       "      <td>NQR456W</td>\n",
       "      <td>BMT</td>\n",
       "      <td>09/15/2018</td>\n",
       "      <td>16:00:00</td>\n",
       "      <td>REGULAR</td>\n",
       "      <td>6759538</td>\n",
       "      <td>2291574</td>\n",
       "      <td>2018-09-15 16:00:00</td>\n",
       "    </tr>\n",
       "  </tbody>\n",
       "</table>\n",
       "</div>"
      ],
      "text/plain": [
       "    C/A  UNIT       SCP STATION LINENAME DIVISION        DATE      TIME  \\\n",
       "0  A002  R051  02-00-00   59 ST  NQR456W      BMT  09/15/2018  00:00:00   \n",
       "1  A002  R051  02-00-00   59 ST  NQR456W      BMT  09/15/2018  04:00:00   \n",
       "2  A002  R051  02-00-00   59 ST  NQR456W      BMT  09/15/2018  08:00:00   \n",
       "3  A002  R051  02-00-00   59 ST  NQR456W      BMT  09/15/2018  12:00:00   \n",
       "4  A002  R051  02-00-00   59 ST  NQR456W      BMT  09/15/2018  16:00:00   \n",
       "\n",
       "      DESC  ENTRIES    EXITS           TIMESTAMP  \n",
       "0  REGULAR  6759219  2291425 2018-09-15 00:00:00  \n",
       "1  REGULAR  6759234  2291429 2018-09-15 04:00:00  \n",
       "2  REGULAR  6759251  2291453 2018-09-15 08:00:00  \n",
       "3  REGULAR  6759330  2291532 2018-09-15 12:00:00  \n",
       "4  REGULAR  6759538  2291574 2018-09-15 16:00:00  "
      ]
     },
     "execution_count": 2,
     "metadata": {},
     "output_type": "execute_result"
    }
   ],
   "source": [
    "# Challenge 2 Answer\n",
    "\n",
    "import dateutil\n",
    "df['TIMESTAMP'] = df['DATE'] + ' ' + df['TIME']\n",
    "df['TIMESTAMP'] = df['TIMESTAMP'].apply(dateutil.parser.parse)\n",
    "df.head()"
   ]
  },
  {
   "cell_type": "markdown",
   "metadata": {},
   "source": [
    "**Challenge 3: Calculate to total daily entries for each turnstile.**"
   ]
  },
  {
   "cell_type": "code",
   "execution_count": 3,
   "metadata": {
    "scrolled": true
   },
   "outputs": [
    {
     "data": {
      "text/html": [
       "<div>\n",
       "<style scoped>\n",
       "    .dataframe tbody tr th:only-of-type {\n",
       "        vertical-align: middle;\n",
       "    }\n",
       "\n",
       "    .dataframe tbody tr th {\n",
       "        vertical-align: top;\n",
       "    }\n",
       "\n",
       "    .dataframe thead th {\n",
       "        text-align: right;\n",
       "    }\n",
       "</style>\n",
       "<table border=\"1\" class=\"dataframe\">\n",
       "  <thead>\n",
       "    <tr style=\"text-align: right;\">\n",
       "      <th></th>\n",
       "      <th>STATION</th>\n",
       "      <th>UNIT</th>\n",
       "      <th>C/A</th>\n",
       "      <th>SCP</th>\n",
       "      <th>DATE</th>\n",
       "      <th>ENTRY_DIFF</th>\n",
       "    </tr>\n",
       "  </thead>\n",
       "  <tbody>\n",
       "    <tr>\n",
       "      <th>0</th>\n",
       "      <td>1 AV</td>\n",
       "      <td>R248</td>\n",
       "      <td>H007</td>\n",
       "      <td>00-00-00</td>\n",
       "      <td>08/25/2018</td>\n",
       "      <td>1717.0</td>\n",
       "    </tr>\n",
       "    <tr>\n",
       "      <th>1</th>\n",
       "      <td>1 AV</td>\n",
       "      <td>R248</td>\n",
       "      <td>H007</td>\n",
       "      <td>00-00-00</td>\n",
       "      <td>08/26/2018</td>\n",
       "      <td>1586.0</td>\n",
       "    </tr>\n",
       "    <tr>\n",
       "      <th>2</th>\n",
       "      <td>1 AV</td>\n",
       "      <td>R248</td>\n",
       "      <td>H007</td>\n",
       "      <td>00-00-00</td>\n",
       "      <td>08/27/2018</td>\n",
       "      <td>2856.0</td>\n",
       "    </tr>\n",
       "    <tr>\n",
       "      <th>3</th>\n",
       "      <td>1 AV</td>\n",
       "      <td>R248</td>\n",
       "      <td>H007</td>\n",
       "      <td>00-00-00</td>\n",
       "      <td>08/28/2018</td>\n",
       "      <td>3060.0</td>\n",
       "    </tr>\n",
       "    <tr>\n",
       "      <th>4</th>\n",
       "      <td>1 AV</td>\n",
       "      <td>R248</td>\n",
       "      <td>H007</td>\n",
       "      <td>00-00-00</td>\n",
       "      <td>08/29/2018</td>\n",
       "      <td>3119.0</td>\n",
       "    </tr>\n",
       "  </tbody>\n",
       "</table>\n",
       "</div>"
      ],
      "text/plain": [
       "  STATION  UNIT   C/A       SCP        DATE  ENTRY_DIFF\n",
       "0    1 AV  R248  H007  00-00-00  08/25/2018      1717.0\n",
       "1    1 AV  R248  H007  00-00-00  08/26/2018      1586.0\n",
       "2    1 AV  R248  H007  00-00-00  08/27/2018      2856.0\n",
       "3    1 AV  R248  H007  00-00-00  08/28/2018      3060.0\n",
       "4    1 AV  R248  H007  00-00-00  08/29/2018      3119.0"
      ]
     },
     "execution_count": 3,
     "metadata": {},
     "output_type": "execute_result"
    }
   ],
   "source": [
    "# Challenge 3 Answer\n",
    "\n",
    "df.sort_values(by=['STATION', 'UNIT', 'C/A', 'SCP', 'DATE'], inplace=True)\n",
    "df['ENTRY_DIFF'] = (df.groupby(['STATION', 'UNIT', 'C/A', 'SCP', 'DATE'])['ENTRIES'].diff(periods=-1)) * -1\n",
    "df['EXIT_DIFF'] = (df.groupby(['STATION', 'UNIT', 'C/A', 'SCP', 'DATE'])['EXITS'].diff(periods=-1)) * -1\n",
    "df = df[(df['ENTRY_DIFF'] >= 0)\n",
    "        & (df['ENTRY_DIFF'] < 100000)\n",
    "        & (df['EXIT_DIFF'] >= 0)\n",
    "        & (df['EXIT_DIFF'] < 100000)]\n",
    "\n",
    "df_entries = df.groupby(['STATION', 'UNIT', 'C/A', 'SCP', 'DATE'])['ENTRY_DIFF'].sum().reset_index()\n",
    "df_entries.head()"
   ]
  },
  {
   "cell_type": "markdown",
   "metadata": {},
   "source": [
    "**Challenge 4: Now plot the daily time series for a turnstile.**"
   ]
  },
  {
   "cell_type": "code",
   "execution_count": 4,
   "metadata": {},
   "outputs": [
    {
     "data": {
      "image/png": "[encoded data removed]",
      "text/plain": [
       "<Figure size 432x288 with 1 Axes>"
      ]
     },
     "metadata": {
      "needs_background": "light"
     },
     "output_type": "display_data"
    }
   ],
   "source": [
    "# Challenge 4 Answer\n",
    "\n",
    "df_scp = df_entries[(df_entries['C/A'] == 'H007')\n",
    "                    & (df_entries['SCP'] == '00-00-00')]\n",
    "x = df_scp.DATE; y = df_scp.ENTRY_DIFF\n",
    "plt.plot(x, y)\n",
    "plt.xticks(range(0, len(x), 2), rotation=90)\n",
    "plt.show()"
   ]
  },
  {
   "cell_type": "markdown",
   "metadata": {},
   "source": [
    "**Challenge 5: Combine the numbers together -- for each ControlArea/UNIT/STATION combo, for each day, add the counts from each turnstile belonging to that combo.**"
   ]
  },
  {
   "cell_type": "code",
   "execution_count": 5,
   "metadata": {
    "scrolled": true
   },
   "outputs": [
    {
     "data": {
      "text/html": [
       "<div>\n",
       "<style scoped>\n",
       "    .dataframe tbody tr th:only-of-type {\n",
       "        vertical-align: middle;\n",
       "    }\n",
       "\n",
       "    .dataframe tbody tr th {\n",
       "        vertical-align: top;\n",
       "    }\n",
       "\n",
       "    .dataframe thead th {\n",
       "        text-align: right;\n",
       "    }\n",
       "</style>\n",
       "<table border=\"1\" class=\"dataframe\">\n",
       "  <thead>\n",
       "    <tr style=\"text-align: right;\">\n",
       "      <th></th>\n",
       "      <th>STATION</th>\n",
       "      <th>UNIT</th>\n",
       "      <th>C/A</th>\n",
       "      <th>DATE</th>\n",
       "      <th>ENTRY_DIFF</th>\n",
       "    </tr>\n",
       "  </thead>\n",
       "  <tbody>\n",
       "    <tr>\n",
       "      <th>0</th>\n",
       "      <td>1 AV</td>\n",
       "      <td>R248</td>\n",
       "      <td>H007</td>\n",
       "      <td>08/25/2018</td>\n",
       "      <td>5776.0</td>\n",
       "    </tr>\n",
       "    <tr>\n",
       "      <th>1</th>\n",
       "      <td>1 AV</td>\n",
       "      <td>R248</td>\n",
       "      <td>H007</td>\n",
       "      <td>08/26/2018</td>\n",
       "      <td>4945.0</td>\n",
       "    </tr>\n",
       "    <tr>\n",
       "      <th>2</th>\n",
       "      <td>1 AV</td>\n",
       "      <td>R248</td>\n",
       "      <td>H007</td>\n",
       "      <td>08/27/2018</td>\n",
       "      <td>8942.0</td>\n",
       "    </tr>\n",
       "    <tr>\n",
       "      <th>3</th>\n",
       "      <td>1 AV</td>\n",
       "      <td>R248</td>\n",
       "      <td>H007</td>\n",
       "      <td>08/28/2018</td>\n",
       "      <td>9391.0</td>\n",
       "    </tr>\n",
       "    <tr>\n",
       "      <th>4</th>\n",
       "      <td>1 AV</td>\n",
       "      <td>R248</td>\n",
       "      <td>H007</td>\n",
       "      <td>08/29/2018</td>\n",
       "      <td>9679.0</td>\n",
       "    </tr>\n",
       "  </tbody>\n",
       "</table>\n",
       "</div>"
      ],
      "text/plain": [
       "  STATION  UNIT   C/A        DATE  ENTRY_DIFF\n",
       "0    1 AV  R248  H007  08/25/2018      5776.0\n",
       "1    1 AV  R248  H007  08/26/2018      4945.0\n",
       "2    1 AV  R248  H007  08/27/2018      8942.0\n",
       "3    1 AV  R248  H007  08/28/2018      9391.0\n",
       "4    1 AV  R248  H007  08/29/2018      9679.0"
      ]
     },
     "execution_count": 5,
     "metadata": {},
     "output_type": "execute_result"
    }
   ],
   "source": [
    "# Challenge 5 Answer\n",
    "\n",
    "df_ca_entries = df.groupby(['STATION', 'UNIT', 'C/A', 'DATE'])['ENTRY_DIFF'].sum().reset_index()\n",
    "df_ca_entries.head()"
   ]
  },
  {
   "cell_type": "markdown",
   "metadata": {},
   "source": [
    "**Challenge 6: Combine everything in each station, and come up with a time series of [(date1, count1),(date2,count2),...] type of time series for each STATION, by adding up all the turnstiles in a station.**"
   ]
  },
  {
   "cell_type": "code",
   "execution_count": 6,
   "metadata": {},
   "outputs": [
    {
     "data": {
      "text/html": [
       "<div>\n",
       "<style scoped>\n",
       "    .dataframe tbody tr th:only-of-type {\n",
       "        vertical-align: middle;\n",
       "    }\n",
       "\n",
       "    .dataframe tbody tr th {\n",
       "        vertical-align: top;\n",
       "    }\n",
       "\n",
       "    .dataframe thead th {\n",
       "        text-align: right;\n",
       "    }\n",
       "</style>\n",
       "<table border=\"1\" class=\"dataframe\">\n",
       "  <thead>\n",
       "    <tr style=\"text-align: right;\">\n",
       "      <th></th>\n",
       "      <th>STATION</th>\n",
       "      <th>DATE</th>\n",
       "      <th>ENTRY_DIFF</th>\n",
       "    </tr>\n",
       "  </thead>\n",
       "  <tbody>\n",
       "    <tr>\n",
       "      <th>0</th>\n",
       "      <td>1 AV</td>\n",
       "      <td>08/25/2018</td>\n",
       "      <td>11388.0</td>\n",
       "    </tr>\n",
       "    <tr>\n",
       "      <th>1</th>\n",
       "      <td>1 AV</td>\n",
       "      <td>08/26/2018</td>\n",
       "      <td>9949.0</td>\n",
       "    </tr>\n",
       "    <tr>\n",
       "      <th>2</th>\n",
       "      <td>1 AV</td>\n",
       "      <td>08/27/2018</td>\n",
       "      <td>14630.0</td>\n",
       "    </tr>\n",
       "    <tr>\n",
       "      <th>3</th>\n",
       "      <td>1 AV</td>\n",
       "      <td>08/28/2018</td>\n",
       "      <td>14969.0</td>\n",
       "    </tr>\n",
       "    <tr>\n",
       "      <th>4</th>\n",
       "      <td>1 AV</td>\n",
       "      <td>08/29/2018</td>\n",
       "      <td>15376.0</td>\n",
       "    </tr>\n",
       "  </tbody>\n",
       "</table>\n",
       "</div>"
      ],
      "text/plain": [
       "  STATION        DATE  ENTRY_DIFF\n",
       "0    1 AV  08/25/2018     11388.0\n",
       "1    1 AV  08/26/2018      9949.0\n",
       "2    1 AV  08/27/2018     14630.0\n",
       "3    1 AV  08/28/2018     14969.0\n",
       "4    1 AV  08/29/2018     15376.0"
      ]
     },
     "execution_count": 6,
     "metadata": {},
     "output_type": "execute_result"
    }
   ],
   "source": [
    "# Challenge 6 Answer\n",
    "\n",
    "df_station_entries = df.groupby(['STATION', 'DATE'])['ENTRY_DIFF'].sum().reset_index()\n",
    "df_station_entries.head() "
   ]
  },
  {
   "cell_type": "markdown",
   "metadata": {},
   "source": [
    "**Challenge 7: Plot the time series (either daily or your preferred level of granularity) for a station.**"
   ]
  },
  {
   "cell_type": "code",
   "execution_count": 7,
   "metadata": {},
   "outputs": [
    {
     "data": {
      "image/png": "[encoded data removed]",
      "text/plain": [
       "<Figure size 432x288 with 1 Axes>"
      ]
     },
     "metadata": {
      "needs_background": "light"
     },
     "output_type": "display_data"
    }
   ],
   "source": [
    "# Challenge 7 Answer\n",
    "df_1station = df_station_entries[(df_station_entries['STATION']) == '1 AV']\n",
    "\n",
    "x = df_1station.DATE; y = df_1station.ENTRY_DIFF\n",
    "plt.plot(x, y)\n",
    "plt.xticks(range(0, len(x)), rotation=90)\n",
    "plt.show()"
   ]
  },
  {
   "cell_type": "markdown",
   "metadata": {},
   "source": [
    "**Challenge 8: Select a station and find the total daily counts for this station. Then plot those daily counts for each week separately.**"
   ]
  },
  {
   "cell_type": "code",
   "execution_count": 8,
   "metadata": {},
   "outputs": [
    {
     "name": "stderr",
     "output_type": "stream",
     "text": [
      "/Library/Frameworks/Python.framework/Versions/3.6/lib/python3.6/site-packages/ipykernel_launcher.py:4: SettingWithCopyWarning: \n",
      "A value is trying to be set on a copy of a slice from a DataFrame.\n",
      "Try using .loc[row_indexer,col_indexer] = value instead\n",
      "\n",
      "See the caveats in the documentation: http://pandas.pydata.org/pandas-docs/stable/indexing.html#indexing-view-versus-copy\n",
      "  after removing the cwd from sys.path.\n"
     ]
    },
    {
     "data": {
      "image/png": "[encoded data removed]",
      "text/plain": [
       "<Figure size 432x288 with 1 Axes>"
      ]
     },
     "metadata": {
      "needs_background": "light"
     },
     "output_type": "display_data"
    }
   ],
   "source": [
    "# Challenge 8 Answer\n",
    "\n",
    "df_week = df_1station\n",
    "df_week['DATE'] = df_week['DATE'].apply(dateutil.parser.parse)\n",
    "for week in df_week['DATE'].dt.week.unique():\n",
    "    x = df_week['DATE'].dt.weekday_name; y = df_week['ENTRY_DIFF']\n",
    "    plt.scatter(x, y)\n",
    "    plt.xticks(rotation=45)"
   ]
  },
  {
   "cell_type": "markdown",
   "metadata": {},
   "source": [
    "**Challenge 9: Over multiple weeks, sum total ridership for each station and sort them, so you can find out the stations with the highest traffic during the time you investigate.**"
   ]
  },
  {
   "cell_type": "code",
   "execution_count": 9,
   "metadata": {},
   "outputs": [
    {
     "data": {
      "text/html": [
       "<div>\n",
       "<style scoped>\n",
       "    .dataframe tbody tr th:only-of-type {\n",
       "        vertical-align: middle;\n",
       "    }\n",
       "\n",
       "    .dataframe tbody tr th {\n",
       "        vertical-align: top;\n",
       "    }\n",
       "\n",
       "    .dataframe thead th {\n",
       "        text-align: right;\n",
       "    }\n",
       "</style>\n",
       "<table border=\"1\" class=\"dataframe\">\n",
       "  <thead>\n",
       "    <tr style=\"text-align: right;\">\n",
       "      <th></th>\n",
       "      <th>STATION</th>\n",
       "      <th>ENTRY_DIFF</th>\n",
       "    </tr>\n",
       "  </thead>\n",
       "  <tbody>\n",
       "    <tr>\n",
       "      <th>59</th>\n",
       "      <td>34 ST-PENN STA</td>\n",
       "      <td>3461167.0</td>\n",
       "    </tr>\n",
       "    <tr>\n",
       "      <th>229</th>\n",
       "      <td>GRD CNTRL-42 ST</td>\n",
       "      <td>3019867.0</td>\n",
       "    </tr>\n",
       "    <tr>\n",
       "      <th>57</th>\n",
       "      <td>34 ST-HERALD SQ</td>\n",
       "      <td>2150148.0</td>\n",
       "    </tr>\n",
       "    <tr>\n",
       "      <th>222</th>\n",
       "      <td>FULTON ST</td>\n",
       "      <td>2134621.0</td>\n",
       "    </tr>\n",
       "    <tr>\n",
       "      <th>14</th>\n",
       "      <td>14 ST-UNION SQ</td>\n",
       "      <td>2126909.0</td>\n",
       "    </tr>\n",
       "  </tbody>\n",
       "</table>\n",
       "</div>"
      ],
      "text/plain": [
       "             STATION  ENTRY_DIFF\n",
       "59    34 ST-PENN STA   3461167.0\n",
       "229  GRD CNTRL-42 ST   3019867.0\n",
       "57   34 ST-HERALD SQ   2150148.0\n",
       "222        FULTON ST   2134621.0\n",
       "14    14 ST-UNION SQ   2126909.0"
      ]
     },
     "execution_count": 9,
     "metadata": {},
     "output_type": "execute_result"
    }
   ],
   "source": [
    "# Challenge 9 Answer\n",
    "df_station = df.groupby(['STATION'])['ENTRY_DIFF'].sum().reset_index()\n",
    "df_station = df_station.sort_values('ENTRY_DIFF', ascending=False)\n",
    "df_station.head()"
   ]
  },
  {
   "cell_type": "markdown",
   "metadata": {},
   "source": [
    "**Challenge 10: Make a single list of these total ridership values and plot it with plt.hist(total_ridership_counts) to get an idea about the distribution of total ridership among different stations.**"
   ]
  },
  {
   "cell_type": "code",
   "execution_count": 10,
   "metadata": {},
   "outputs": [
    {
     "data": {
      "image/png": "[encoded data removed]",
      "text/plain": [
       "<Figure size 432x288 with 1 Axes>"
      ]
     },
     "metadata": {
      "needs_background": "light"
     },
     "output_type": "display_data"
    }
   ],
   "source": [
    "# Challenge 10 Answer\n",
    "plt.hist(df_station['ENTRY_DIFF']);"
   ]
  }
 ],
 "metadata": {
  "kernelspec": {
   "display_name": "Python 3",
   "language": "python",
   "name": "python3"
  },
  "language_info": {
   "codemirror_mode": {
    "name": "ipython",
    "version": 3
   },
   "file_extension": ".py",
   "mimetype": "text/x-python",
   "name": "python",
   "nbconvert_exporter": "python",
   "pygments_lexer": "ipython3",
   "version": "3.6.5"
  }
 },
 "nbformat": 4,
 "nbformat_minor": 2
}
